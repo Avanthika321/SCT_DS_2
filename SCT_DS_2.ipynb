{
  "nbformat": 4,
  "nbformat_minor": 0,
  "metadata": {
    "colab": {
      "provenance": []
    },
    "kernelspec": {
      "name": "python3",
      "display_name": "Python 3"
    },
    "language_info": {
      "name": "python"
    }
  },
  "cells": [
    {
      "cell_type": "code",
      "execution_count": 39,
      "metadata": {
        "id": "CHcq6a706Oe_"
      },
      "outputs": [],
      "source": [
        "import pandas as pd\n",
        "import numpy as np\n",
        "import seaborn as sns\n",
        "import matplotlib.pyplot as plt\n",
        "sns.set(style=\"darkgrid\")"
      ]
    },
    {
      "cell_type": "code",
      "source": [
        "url='https://raw.githubusercontent.com/datasciencedojo/datasets/master/titanic.csv'\n",
        "titanic=pd.read_csv(url)\n",
        "titanic.head()\n",
        "titanic.shape\n",
        "titanic.info()\n",
        "titanic.describe()"
      ],
      "metadata": {
        "id": "IZr5Xddd98ZB"
      },
      "execution_count": null,
      "outputs": []
    },
    {
      "cell_type": "code",
      "source": [
        "titanic['Age']=titanic['Age'].fillna(titanic['Age'].median())\n",
        "titanic['Embarked']=titanic['Embarked'].fillna(titanic['Embarked'].mode()[0])\n",
        "if 'Cabin' in titanic.columns:\n",
        " titanic= titanic.drop(columns=['Cabin'])\n",
        "titanic.isnull().sum()"
      ],
      "metadata": {
        "id": "BcO_TI4WLbKP"
      },
      "execution_count": null,
      "outputs": []
    },
    {
      "cell_type": "code",
      "source": [
        "sns.countplot(hue='Survived',x='Survived', data=titanic,palette=['red','yellow'],legend=False)\n",
        "plt.title(\"Survival Count (0 = No, 1 = Yes)\")\n",
        "plt.show()"
      ],
      "metadata": {
        "id": "V7YIFi7XM0E-"
      },
      "execution_count": null,
      "outputs": []
    },
    {
      "cell_type": "code",
      "source": [
        "sns.countplot(hue='Sex',x='Sex', data=titanic,palette=['blue','pink'],legend=False)\n",
        "plt.title(\"Survival Count by gender\")\n",
        "plt.show()"
      ],
      "metadata": {
        "id": "3I1GGYUTOXtU"
      },
      "execution_count": null,
      "outputs": []
    },
    {
      "cell_type": "code",
      "source": [
        "sns.countplot(hue='Survived',x='Pclass', data=titanic,palette=['violet','blue'],legend=False)\n",
        "plt.title(\"Survival Count by Passenger class\")\n",
        "plt.show()"
      ],
      "metadata": {
        "id": "Jjj5oSfcOp_1"
      },
      "execution_count": null,
      "outputs": []
    },
    {
      "cell_type": "code",
      "source": [
        "sns.histplot(titanic['Age'],bins=30,kde=True)\n",
        "plt.title(\"Age Distribution of Passengers\")\n",
        "plt.xlabel(\"Age\")\n",
        "plt.show()"
      ],
      "metadata": {
        "id": "UoLXI5hMSh4N"
      },
      "execution_count": null,
      "outputs": []
    },
    {
      "cell_type": "code",
      "source": [
        "sns.histplot(titanic['Fare'],bins=30,kde=True)\n",
        "plt.title(\"Fare Distribution\")\n",
        "plt.xlabel(\"Fare\")\n",
        "plt.ylabel(\"No of Passengers\")\n",
        "plt.show()"
      ],
      "metadata": {
        "id": "toXoVx_gTMuA"
      },
      "execution_count": null,
      "outputs": []
    },
    {
      "cell_type": "code",
      "source": [
        "sns.countplot(hue='Survived',x='Embarked', data=titanic,palette=['orange','yellow'],legend=False)\n",
        "plt.title(\"Survival by Embarkation port\")\n",
        "plt.show()"
      ],
      "metadata": {
        "id": "gr7rO1ShUKWx"
      },
      "execution_count": null,
      "outputs": []
    },
    {
      "cell_type": "markdown",
      "source": [
        "Identified patterns and trends in the titanic dataset\n",
        "\n",
        "-> Fewer than 40% of the passengers survived.\n",
        "-> More women survived than men.\n",
        "-> 1st class passengers had higher survival than other classes.\n",
        "-> KDE plots were used to show smooth patterns for age and fare.\n",
        "-> Younger passengers survived more.\n",
        "-> Passengers who paid more had better survival rates.\n",
        "-> People who boarded at Cherbourg had the highest survival rate.\n",
        "\n",
        "SUMMARY\n",
        "\n",
        "   Survival was affected by gender,age,fare and embarkation port."
      ],
      "metadata": {
        "id": "-Ousip3zaNoO"
      }
    }
  ]
}